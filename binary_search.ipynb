{
 "cells": [
  {
   "cell_type": "code",
   "execution_count": 3,
   "id": "3a81e0c8",
   "metadata": {},
   "outputs": [
    {
     "name": "stdout",
     "output_type": "stream",
     "text": [
      "5\n",
      "12\n"
     ]
    }
   ],
   "source": [
    "a = 12\n",
    "b = 5\n",
    "a, b = b, a\n",
    "print(a)\n",
    "print(b)"
   ]
  },
  {
   "cell_type": "code",
   "execution_count": 17,
   "id": "256d2676",
   "metadata": {},
   "outputs": [
    {
     "data": {
      "text/plain": [
       "[0, 3, 4]"
      ]
     },
     "execution_count": 17,
     "metadata": {},
     "output_type": "execute_result"
    }
   ],
   "source": [
    "hey = 'HelLO'\n",
    "\n",
    "def capital_indexes(x):\n",
    "    return [i for i in range(len(x)) if x[i].isupper()]\n",
    "    \n",
    "    \n",
    "capital_indexes(hey)"
   ]
  },
  {
   "cell_type": "code",
   "execution_count": 20,
   "id": "7574123d",
   "metadata": {},
   "outputs": [
    {
     "data": {
      "text/plain": [
       "1"
      ]
     },
     "execution_count": 20,
     "metadata": {},
     "output_type": "execute_result"
    }
   ],
   "source": [
    "5%2"
   ]
  },
  {
   "cell_type": "code",
   "execution_count": 22,
   "id": "b134fb3f",
   "metadata": {},
   "outputs": [
    {
     "data": {
      "text/plain": [
       "0"
      ]
     },
     "execution_count": 22,
     "metadata": {},
     "output_type": "execute_result"
    }
   ],
   "source": [
    "6%2"
   ]
  },
  {
   "cell_type": "code",
   "execution_count": 31,
   "id": "11d819dc",
   "metadata": {},
   "outputs": [
    {
     "data": {
      "text/plain": [
       "'B'"
      ]
     },
     "execution_count": 31,
     "metadata": {},
     "output_type": "execute_result"
    }
   ],
   "source": [
    "def mid(x):\n",
    "    if len(x)%2 ==0:\n",
    "        return ''\n",
    "    else:\n",
    "        mid_i = int(len(x) /2 -.5)\n",
    "        return x[mid_i]\n",
    "    \n",
    "X = 'ACBCC'\n",
    "mid(X)"
   ]
  },
  {
   "cell_type": "code",
   "execution_count": 33,
   "id": "cd38e3e1",
   "metadata": {},
   "outputs": [
    {
     "data": {
      "text/plain": [
       "2"
      ]
     },
     "execution_count": 33,
     "metadata": {},
     "output_type": "execute_result"
    }
   ],
   "source": [
    "5//2"
   ]
  },
  {
   "cell_type": "code",
   "execution_count": 35,
   "id": "dd3ba78f",
   "metadata": {},
   "outputs": [
    {
     "data": {
      "text/plain": [
       "3"
      ]
     },
     "execution_count": 35,
     "metadata": {},
     "output_type": "execute_result"
    }
   ],
   "source": [
    "15//4"
   ]
  },
  {
   "cell_type": "code",
   "execution_count": 38,
   "id": "a3661ba8",
   "metadata": {},
   "outputs": [],
   "source": [
    "status = {'bob':'online','jimbo':'offline','gabby':'offline'}"
   ]
  },
  {
   "cell_type": "code",
   "execution_count": null,
   "id": "50def5a8",
   "metadata": {},
   "outputs": [],
   "source": []
  },
  {
   "cell_type": "code",
   "execution_count": 43,
   "id": "2f0ad048",
   "metadata": {},
   "outputs": [
    {
     "data": {
      "text/plain": [
       "dict_keys(['bob', 'jimbo', 'gabby'])"
      ]
     },
     "execution_count": 43,
     "metadata": {},
     "output_type": "execute_result"
    }
   ],
   "source": [
    "status.keys()"
   ]
  },
  {
   "cell_type": "code",
   "execution_count": 61,
   "id": "c6fd71fa",
   "metadata": {},
   "outputs": [
    {
     "data": {
      "text/plain": [
       "1"
      ]
     },
     "execution_count": 61,
     "metadata": {},
     "output_type": "execute_result"
    }
   ],
   "source": [
    "import random\n",
    "random.randrange(1,3)"
   ]
  },
  {
   "cell_type": "code",
   "execution_count": 114,
   "id": "1d18a57f",
   "metadata": {},
   "outputs": [],
   "source": [
    "def search(ordered, x):\n",
    "    return _search(ordered,x,0,len(ordered)-1)\n",
    "    "
   ]
  },
  {
   "cell_type": "code",
   "execution_count": 115,
   "id": "a92fe350",
   "metadata": {},
   "outputs": [],
   "source": [
    "def _search(ordered, x, start, stop):\n",
    "    length = stop - start + 1\n",
    "    mid_i = int(length//2 + start)\n",
    "    print(mid_i, start, stop)\n",
    "    \n",
    "    if ordered[mid_i] == x:\n",
    "        print('hey')\n",
    "        return mid_i \n",
    "    \n",
    "    elif ordered[mid_i]>x: #look at first half of list\n",
    "        top_index = mid_i - 1\n",
    "        print(top_index)\n",
    "        return _search(ordered, x, start, top_index)\n",
    "        \n",
    "    \n",
    "    else: #ordered[mid_i]<x\n",
    "        #look at second half of list\n",
    "        bot_index = mid_i + 1\n",
    "        print(bot_index)\n",
    "        return _search(ordered, x,bot_index, stop)\n",
    "        \n",
    "        "
   ]
  },
  {
   "cell_type": "code",
   "execution_count": 116,
   "id": "6e88a1b3",
   "metadata": {},
   "outputs": [],
   "source": [
    "ordered = [1,2,3,4,5,6,7,8,9]\n",
    "x=9"
   ]
  },
  {
   "cell_type": "code",
   "execution_count": 117,
   "id": "7cdcb1dc",
   "metadata": {},
   "outputs": [
    {
     "name": "stdout",
     "output_type": "stream",
     "text": [
      "4 0 8\n",
      "5\n",
      "7 5 8\n",
      "8\n",
      "8 8 8\n",
      "hey\n",
      "8\n"
     ]
    }
   ],
   "source": [
    "print(search(ordered,x))"
   ]
  },
  {
   "cell_type": "code",
   "execution_count": null,
   "id": "7dea1231",
   "metadata": {},
   "outputs": [],
   "source": []
  },
  {
   "cell_type": "code",
   "execution_count": null,
   "id": "cc525775",
   "metadata": {},
   "outputs": [],
   "source": []
  }
 ],
 "metadata": {
  "kernelspec": {
   "display_name": "Python 3",
   "language": "python",
   "name": "python3"
  },
  "language_info": {
   "codemirror_mode": {
    "name": "ipython",
    "version": 3
   },
   "file_extension": ".py",
   "mimetype": "text/x-python",
   "name": "python",
   "nbconvert_exporter": "python",
   "pygments_lexer": "ipython3",
   "version": "3.8.8"
  }
 },
 "nbformat": 4,
 "nbformat_minor": 5
}
